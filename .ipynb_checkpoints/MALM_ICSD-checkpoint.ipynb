{
 "cells": [
  {
   "cell_type": "markdown",
   "id": "banner-meditation",
   "metadata": {},
   "source": [
    "# Introduction"
   ]
  },
  {
   "cell_type": "markdown",
   "id": "imperial-paintball",
   "metadata": {},
   "source": [
    "This notebook is dedicated to the data processing of the laboratory rhizotron experiment. \n",
    "Here the code looks at the current density distribution as a result of a MALM injection into the plant. Two inversions are required: ERT inversion and Inversion of Current density.\n",
    "\n",
    "The workflow has been integrated directly into the Resipy open-code widely used by the geophysical community.\n"
   ]
  },
  {
   "cell_type": "markdown",
   "id": "following-equity",
   "metadata": {},
   "source": [
    "# Processing"
   ]
  },
  {
   "cell_type": "code",
   "execution_count": null,
   "id": "confused-mentor",
   "metadata": {},
   "outputs": [],
   "source": [
    "import os\n",
    "import matplotlib.pyplot as plt\n",
    "\n",
    "#!pip install resipy\n",
    "import resipy\n",
    "from resipy import Project\n",
    "import numpy as np"
   ]
  },
  {
   "cell_type": "code",
   "execution_count": null,
   "id": "inner-compression",
   "metadata": {},
   "outputs": [],
   "source": [
    "main = 'E:/Padova/Experiments/2020_Rhizotron_Veronika_PRD_vitis_EIT/test-ICSD-API/'\n",
    "\n",
    "inputfileERT = 'ERT_0113.csv' #'ERT_1217.csv'\n",
    "inputfileMALM = 'MALM_0113.csv' #'MALM_1217.csv'\n",
    "elecs = np.genfromtxt(main + 'mesh/elecsXYZ.csv', delimiter=\",\",skip_header=1)"
   ]
  },
  {
   "cell_type": "code",
   "execution_count": null,
   "id": "ongoing-configuration",
   "metadata": {},
   "outputs": [],
   "source": [
    "k = Project(main, typ='R3t')\n",
    "k.createSurvey(main + '/raw_data/' + inputfileERT, ftype='Syscal') # read the survey file\n",
    "k.filterUnpaired()\n",
    "k.filterRecip(percent=10) # in this case this only removes one quadrupoles with reciprocal error bigger than 20 percent\n",
    "k.fitErrorLin()\n",
    "k.showPseudo()\n",
    "k.showError() # plot the reciprocal errors\n",
    "elecsFlag = np.concatenate([np.zeros(8),np.ones(len(elecs[:,2])-8)])\n",
    "k.setElec(np.c_[elecs[:,0],elecs[:,2],elecs[:,1],elecsFlag])"
   ]
  },
  {
   "cell_type": "code",
   "execution_count": null,
   "id": "moderate-trout",
   "metadata": {},
   "outputs": [],
   "source": [
    "k.importMesh(main + 'mesh/mesh_rhizo_resipy.msh')\n",
    "k.param['num_xy_poly'] = 0\n",
    "k.param['z_min'] = -100\n",
    "k.param['z_max'] = 100\n",
    "k.param['data_type'] = 1 # using log of resistitivy\n",
    "k.err = True # if we want to use the error from the error models fitted before\n",
    "# k.invert() # this will do the inversion"
   ]
  },
  {
   "cell_type": "code",
   "execution_count": null,
   "id": "unavailable-adelaide",
   "metadata": {},
   "outputs": [],
   "source": [
    "k.createSurveyCSD(main + '/raw_data/' + inputfileMALM, ftype='Syscal')\n",
    "grid_vrte = [(0.1, 0.3, 3),(0,0,1),(0.125,0.425,4)]"
   ]
  },
  {
   "cell_type": "code",
   "execution_count": null,
   "id": "bored-battle",
   "metadata": {},
   "outputs": [],
   "source": [
    "# Inversion of CSD\n",
    "k.invertCSD(grid=grid_vrte, x0=None, weightType='const', wreg=1)\n",
    "k.showCSD()"
   ]
  }
 ],
 "metadata": {
  "kernelspec": {
   "display_name": "Python 3",
   "language": "python",
   "name": "python3"
  },
  "language_info": {
   "codemirror_mode": {
    "name": "ipython",
    "version": 3
   },
   "file_extension": ".py",
   "mimetype": "text/x-python",
   "name": "python",
   "nbconvert_exporter": "python",
   "pygments_lexer": "ipython3",
   "version": "3.7.9"
  }
 },
 "nbformat": 4,
 "nbformat_minor": 5
}

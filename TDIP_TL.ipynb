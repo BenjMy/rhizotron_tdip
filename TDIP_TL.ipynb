{
 "cells": [
  {
   "cell_type": "code",
   "execution_count": null,
   "id": "mathematical-legislature",
   "metadata": {},
   "outputs": [],
   "source": [
    "import os\n",
    "import matplotlib.pyplot as plt\n",
    "\n",
    "#!pip install resipy\n",
    "import resipy"
   ]
  },
  {
   "cell_type": "code",
   "execution_count": null,
   "id": "affecting-forum",
   "metadata": {},
   "outputs": [],
   "source": []
  },
  {
   "cell_type": "markdown",
   "id": "respiratory-penetration",
   "metadata": {},
   "source": [
    "This notebook is dedicated to the data processing of the laboratory rhizotron experiment. \n",
    "Here the code looks at the variations of the MALM with time (i.e. growing root system).No inversion is required as the potential value are analysed using a simple descriptive approach wich consist in plotting the gradient of the potential field * the conductivity of the medium.\n",
    "This operation led to the identification of the direction and intensity of the current flux without having to invert the MALM data.\n"
   ]
  }
 ],
 "metadata": {
  "kernelspec": {
   "display_name": "Python 3",
   "language": "python",
   "name": "python3"
  },
  "language_info": {
   "codemirror_mode": {
    "name": "ipython",
    "version": 3
   },
   "file_extension": ".py",
   "mimetype": "text/x-python",
   "name": "python",
   "nbconvert_exporter": "python",
   "pygments_lexer": "ipython3",
   "version": "3.7.9"
  }
 },
 "nbformat": 4,
 "nbformat_minor": 5
}

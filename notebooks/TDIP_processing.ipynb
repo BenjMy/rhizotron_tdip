{
 "cells": [
  {
   "cell_type": "markdown",
   "id": "vulnerable-reservation",
   "metadata": {},
   "source": [
    "# Introduction"
   ]
  },
  {
   "cell_type": "markdown",
   "id": "basic-hospital",
   "metadata": {},
   "source": [
    "This notebook is dedicated to the data processing of the laboratory rhizotron experiment. \n",
    "Two types of data are collected, an ERT dataset and a MALM. A classical ERT inversion is done while no inversion is required for the MALM as the potential value are analysed using a simple descriptive approach wich consist in plotting the gradient of the potential field * the conductivity of the medium.\n",
    "This operation led to the identification of the direction and intensity of the current flux without having to invert the MALM data."
   ]
  },
  {
   "cell_type": "markdown",
   "id": "arctic-explanation",
   "metadata": {},
   "source": [
    "# Processing"
   ]
  },
  {
   "cell_type": "markdown",
   "id": "geographic-reason",
   "metadata": {},
   "source": [
    "### Import all the necessary packages\n",
    "pybert is required in order to: \n",
    "- invert ERT data\n",
    "- import TDIP data\n",
    "- filter TDIP data"
   ]
  },
  {
   "cell_type": "code",
   "execution_count": 2,
   "id": "damaged-consultation",
   "metadata": {},
   "outputs": [
    {
     "name": "stdout",
     "output_type": "stream",
     "text": [
      "Collecting package metadata (current_repodata.json): ...working... done\n",
      "Solving environment: ...working... done\n",
      "\n",
      "## Package Plan ##\n",
      "\n",
      "  environment location: C:\\Users\\gcass\\anaconda3\\envs\\pygimli\n",
      "\n",
      "  added / updated specs:\n",
      "    - pybert\n",
      "\n",
      "\n",
      "The following packages will be downloaded:\n",
      "\n",
      "    package                    |            build\n",
      "    ---------------------------|-----------------\n",
      "    openssl-1.1.1j             |       h8ffe710_0         5.8 MB  conda-forge\n",
      "    ------------------------------------------------------------\n",
      "                                           Total:         5.8 MB\n",
      "\n",
      "The following packages will be UPDATED:\n",
      "\n",
      "  openssl                                 1.1.1i-h8ffe710_0 --> 1.1.1j-h8ffe710_0\n",
      "\n",
      "\n",
      "\n",
      "Downloading and Extracting Packages\n",
      "\n",
      "openssl-1.1.1j       | 5.8 MB    |            |   0% \n",
      "openssl-1.1.1j       | 5.8 MB    |            |   0% \n",
      "openssl-1.1.1j       | 5.8 MB    | ###9       |  39% \n",
      "openssl-1.1.1j       | 5.8 MB    | ########## | 100% \n",
      "openssl-1.1.1j       | 5.8 MB    | ########## | 100% \n",
      "Preparing transaction: ...working... done\n",
      "Verifying transaction: ...working... done\n",
      "Executing transaction: ...working... done\n"
     ]
    }
   ],
   "source": [
    "#!git clone https://gitlab.com/resistivity-net/bert\n",
    "#!conda install -f pybert\n",
    "#import pybert\n",
    "#!conda install --yes --prefix {sys.prefix} pybert\n",
    "!conda install --yes pybert"
   ]
  },
  {
   "cell_type": "code",
   "execution_count": 3,
   "id": "third-category",
   "metadata": {},
   "outputs": [
    {
     "name": "stdout",
     "output_type": "stream",
     "text": [
      "API path =  E:\\Padova\\Software\\InversionERT\\resipy\\src\\resipy\n",
      "ResIPy version =  3.2.3\n",
      "cR2.exe found and up to date.\n",
      "R3t.exe found and up to date.\n",
      "cR3t.exe found and up to date.\n"
     ]
    }
   ],
   "source": [
    "import os\n",
    "import matplotlib.pyplot as plt\n",
    "\n",
    "#!pip install resipy\n",
    "import resipy\n",
    "\n",
    "#!conda install -f pybert\n",
    "#!conda install -c gimli pybert\n",
    "import pybert as pb\n",
    "from pybert import tdip\n",
    "\n",
    "\n",
    "#import pygimli\n",
    "import numpy as np\n",
    "\n",
    "# My own library\n",
    "from utils_rhizo import fct_utils as FU\n",
    "#from run_ERT_invert_plant import invert_Resipy_ERT, invert_pygimli_ERT"
   ]
  },
  {
   "cell_type": "markdown",
   "id": "occupied-season",
   "metadata": {},
   "source": [
    "Define survey date (change date accordingly)"
   ]
  },
  {
   "cell_type": "code",
   "execution_count": 4,
   "id": "reported-general",
   "metadata": {},
   "outputs": [
    {
     "name": "stderr",
     "output_type": "stream",
     "text": [
      "C:\\Users\\gcass\\anaconda3\\envs\\pygimli\\lib\\site-packages\\ipykernel\\ipkernel.py:283: DeprecationWarning: `should_run_async` will not call `transform_cell` automatically in the future. Please pass the result to `transformed_cell` argument and any exception that happen during thetransform in `preprocessing_exc_tuple` in IPython 7.17 and above.\n",
      "  and should_run_async(code)\n"
     ]
    }
   ],
   "source": [
    "date = '0209' #  '1712' 0112 '1310' '1611' # (ddmm)"
   ]
  },
  {
   "cell_type": "markdown",
   "id": "descending-vietnamese",
   "metadata": {},
   "source": [
    "Define file paths"
   ]
  },
  {
   "cell_type": "code",
   "execution_count": 5,
   "id": "periodic-roads",
   "metadata": {},
   "outputs": [
    {
     "name": "stdout",
     "output_type": "stream",
     "text": [
      "./fig/0209/\n"
     ]
    }
   ],
   "source": [
    "main = os.getcwd()\n",
    "os.chdir(main)\n",
    "geomPath, meshPath, icsdPath, figpath = FU.definePath(main,date)\n",
    "print(figpath)"
   ]
  },
  {
   "cell_type": "markdown",
   "id": "pressed-sodium",
   "metadata": {},
   "source": [
    "### Define survey parameters\n",
    "if invERT is set to FALSE, then waterRes needs to be defined according to the measured conductivity measured with the probe (in microS/cm)\n",
    "\n",
    "(see excel file for correspondance dates/files/parameters)"
   ]
  },
  {
   "cell_type": "code",
   "execution_count": 6,
   "id": "aging-torture",
   "metadata": {},
   "outputs": [],
   "source": [
    "invERT = False\n",
    "waterRes = (1/855)*1e4 #21.23 # water resistivity (Ohm.m) converted from microS/cm 767, 477 \n",
    "rec = True # reciprocal analysis\n",
    "A = 72-1 # Id electrode A\n",
    "B = 65-1 # Id electrode B\n",
    "injection_duration = 2 # time of injection"
   ]
  },
  {
   "cell_type": "markdown",
   "id": "lyric-provincial",
   "metadata": {},
   "source": [
    "Load ERT and MALM files \n",
    "\n",
    "(nothing to change providing all the raw file data respect the naming convention ERT_mmdd.bin (mm=month, dd=day))"
   ]
  },
  {
   "cell_type": "code",
   "execution_count": 9,
   "id": "single-horse",
   "metadata": {},
   "outputs": [],
   "source": [
    "# filename located in the raw data folder\n",
    "# MALMIP_0122 MALMIP_0113 'MALMIP1217' 'MALMIP1201.bin' 'MALMIP1013' 'MALMIP1116.bin'\n",
    "inputfileMALM = 'MALMIP_' + date + '.bin' #  \n",
    "inputfileERT = 'ERT_' + date + '.bin' #"
   ]
  },
  {
   "cell_type": "markdown",
   "id": "comfortable-arlington",
   "metadata": {},
   "source": [
    "Filter data (no change needed in normal config)"
   ]
  },
  {
   "cell_type": "code",
   "execution_count": 7,
   "id": "appreciated-green",
   "metadata": {},
   "outputs": [],
   "source": [
    "rmvInvalid = False # True if you want to write filtered files/ False for raw data\n",
    "rmv_outliers = False\n",
    "rmv_id= None # remove an electrode from is id\n",
    "\n",
    "split_Nfix = [True, 71-1]\n",
    "Nfix = 71-1 #71-1  #None 71-1 # Id electrode N , put None if N is varying"
   ]
  },
  {
   "cell_type": "markdown",
   "id": "ordered-charger",
   "metadata": {},
   "source": [
    "Plot TDIP data options (no change needed)"
   ]
  },
  {
   "cell_type": "code",
   "execution_count": 8,
   "id": "recreational-hindu",
   "metadata": {},
   "outputs": [],
   "source": [
    "plotCC = False # show Cole-Cole fitted parameters (to compare with literature)\n",
    "all_gates= True\n",
    "if not all_gates: \n",
    "    gateIP = 3 \n",
    "else: gateIP = None # id extracted time window in mV/V (?)"
   ]
  },
  {
   "cell_type": "markdown",
   "id": "protected-anxiety",
   "metadata": {},
   "source": [
    "### Run ERT inversion"
   ]
  },
  {
   "cell_type": "markdown",
   "id": "critical-bandwidth",
   "metadata": {},
   "source": [
    "Load geometry and mesh (fwd and inv) - (no change needed)"
   ]
  },
  {
   "cell_type": "code",
   "execution_count": 10,
   "id": "negative-handbook",
   "metadata": {},
   "outputs": [],
   "source": [
    "if invERT:\n",
    "    RemLineNb, Injection, coordE, pointsE= FU.load_geom(geomPath) # geometry file containing electrodes position including remotes \n",
    "    mesh3d_fwd, sensors = FU.mesh_import(meshPath + 'BaseRhizo_Vrte.msh')\n",
    "    mesh3d_inv, sensors = FU.mesh_import(meshPath + 'BaseRhizo_Vrte_inv.msh')"
   ]
  },
  {
   "cell_type": "markdown",
   "id": "opposite-tract",
   "metadata": {},
   "source": [
    "Run with resipy code"
   ]
  },
  {
   "cell_type": "code",
   "execution_count": null,
   "id": "confidential-discretion",
   "metadata": {},
   "outputs": [],
   "source": [
    "if invERT:\n",
    "        inputfileERTcsv = 'ERT_' + date + '.csv'\n",
    "    k = invert_Resipy_ERT(inputfileERTcsv)\n",
    "    k.showResults()\n",
    "    k.saveInvPlots(figpath + 'figs')"
   ]
  },
  {
   "cell_type": "markdown",
   "id": "cleared-miller",
   "metadata": {},
   "source": [
    "Run with pygimli code"
   ]
  },
  {
   "cell_type": "code",
   "execution_count": null,
   "id": "legal-wheel",
   "metadata": {},
   "outputs": [],
   "source": [
    "if invERT:\n",
    "    model = invert_pygimli_ERT(inputfileERT,sensors,mesh3d_inv)\n",
    "    pg.show(mesh3d_inv,data=model,notebook=True)\n",
    "    mesh3d_inv.addData('model',model)\n",
    "    mesh3d_inv.exportVTK('model' + date + '.vtk')\n",
    "    \n",
    "    plotter, _ = pg.show(mesh3d_inv, data=model,\n",
    "                         alpha=0.9, hold=True, notebook=True)\n",
    "    plotter.view_xy()\n",
    "    #plotter.clim([20, 60])\n",
    "    plotter.show()\n",
    "    plotter.screenshot('model' + date + '.png')"
   ]
  },
  {
   "cell_type": "markdown",
   "id": "funded-chile",
   "metadata": {},
   "source": [
    "### MALM processing"
   ]
  },
  {
   "cell_type": "code",
   "execution_count": 11,
   "id": "tutorial-stephen",
   "metadata": {},
   "outputs": [
    {
     "name": "stderr",
     "output_type": "stream",
     "text": [
      "22/02/21 - 12:15:57 - pyGIMLi - \u001b[0;32;49mINFO\u001b[0m - imported:  Data: Electrodes: 72 data: 300\n",
      "22/02/21 - 12:15:57 - pyGIMLi - \u001b[0;32;49mINFO\u001b[0m - imported:  Data: Electrodes: 72 data: 300\n"
     ]
    },
    {
     "name": "stdout",
     "output_type": "stream",
     "text": [
      "300 (20, 300)\n",
      "300 (20, 300)\n"
     ]
    }
   ],
   "source": [
    "#%% Import data TDIP\n",
    "IPcurves = tdip.TDIPdata('./raw_data/' + inputfileMALM) # e.g. ABEM or Syscal TXT export\n",
    "valid = np.ones(len(IPcurves.data('m')))\n",
    "IPcurves_f = tdip.TDIPdata('./raw_data/' + inputfileMALM)"
   ]
  },
  {
   "cell_type": "code",
   "execution_count": 12,
   "id": "essential-message",
   "metadata": {},
   "outputs": [],
   "source": [
    "if split_Nfix[0]:\n",
    "\n",
    "    IPcurves.data('m').array()\n",
    "    idn = np.where(IPcurves.data('m')==split_Nfix[1])[0]\n",
    "    idm = np.where(IPcurves.data('n')==split_Nfix[1])[0]\n",
    "    idfix = list(idn)  #+ list(idm)\n",
    "    \n",
    "    IPcurves.data('a')[idfix].array()\n",
    "    IPcurves.data('b')[idfix].array()\n",
    "    id_elec_2rmv = idfix # remove Nfix electrodes\n",
    "    \n",
    "    if Nfix is not None:\n",
    "        a = set(list(range(0, len(IPcurves.data('m')))))\n",
    "        id_elec_2rmv = a.difference(set(idfix))\n",
    "        id_elec_2rmv = list(id_elec_2rmv)\n",
    "    \n",
    "    IPcurves_f, valid_split = FU.filterTDIP(IPcurves_f,id_elec_2rmv)"
   ]
  },
  {
   "cell_type": "markdown",
   "id": "vocal-execution",
   "metadata": {},
   "source": [
    "Remove outliers "
   ]
  },
  {
   "cell_type": "code",
   "execution_count": 13,
   "id": "speaking-silicon",
   "metadata": {},
   "outputs": [],
   "source": [
    "if rmv_outliers: \n",
    "    id_outliers = np.where(abs(IPcurves_f.data['M1'])>100)[0]\n",
    "    id_elec_2rmv= list(id_outliers)\n",
    "    if rmv_id: \n",
    "        id_elec_2rmv.append(rmv_id)\n",
    "    IPcurves_f, valid_outliers = filterTDIP(IPcurves_f,id_elec_2rmv)\n",
    "\n",
    "j=0\n",
    "try:\n",
    "    valid_split\n",
    "except NameError:\n",
    "    valid_split = np.ones(len(IPcurves.data('m')))\n",
    "    \n",
    "for i, v in enumerate(valid_split):\n",
    "    if v==1: # if valid in split\n",
    "        # check if valid in outliers\n",
    "        if rmv_outliers:\n",
    "            if valid_outliers[j] == 0:\n",
    "                valid[i] = 0\n",
    "                print(i)\n",
    "            else:\n",
    "                valid[i] = 1\n",
    "            j = j + 1\n",
    "    else: \n",
    "        valid[i] = 0    "
   ]
  },
  {
   "cell_type": "markdown",
   "id": "complicated-economics",
   "metadata": {},
   "source": [
    "Show decay"
   ]
  },
  {
   "cell_type": "code",
   "execution_count": 14,
   "id": "elect-bridges",
   "metadata": {},
   "outputs": [
    {
     "name": "stdout",
     "output_type": "stream",
     "text": [
      "nr= [ 0  1  2  3  4  5  6  7  8  9 10 11 12 13 14 15 16 17 18 19 20 21 22 23\n",
      " 24 25 26 27 28 29 30 31 32 33 34 35 36 37 38 39 40 41 42 43 44 45 46 47\n",
      " 48 49 50 51 52 53 54 55 56 57 58 59 60 61 62 63 64 65 66 67 68 69 70 71]\n"
     ]
    },
    {
     "data": {
      "text/plain": [
       "<AxesSubplot:xlabel='$t$ [s]', ylabel='$m_a$ [mV/V]'>"
      ]
     },
     "execution_count": 14,
     "metadata": {},
     "output_type": "execute_result"
    },
    {
     "data": {
      "image/png": "[encoded data removed]",
      "text/plain": [
       "<Figure size 432x288 with 1 Axes>"
      ]
     },
     "metadata": {
      "needs_background": "light"
     },
     "output_type": "display_data"
    }
   ],
   "source": [
    "IPcurves_f.showDecay(nr=np.arange(0,len(IPcurves_f.data['a'])), showFit=False, \n",
    "                   yscale='linear',xscale='linear')"
   ]
  },
  {
   "cell_type": "code",
   "execution_count": 15,
   "id": "located-brooks",
   "metadata": {},
   "outputs": [
    {
     "name": "stderr",
     "output_type": "stream",
     "text": [
      "C:\\Users\\gcass\\anaconda3\\envs\\pygimli\\lib\\site-packages\\ipykernel\\ipkernel.py:283: DeprecationWarning: `should_run_async` will not call `transform_cell` automatically in the future. Please pass the result to `transformed_cell` argument and any exception that happen during thetransform in `preprocessing_exc_tuple` in IPython 7.17 and above.\n",
      "  and should_run_async(code)\n"
     ]
    },
    {
     "name": "stdout",
     "output_type": "stream",
     "text": [
      "Data before filtering: Data: Electrodes: 72 data: 300\n",
      "Data after filtering: Data: Electrodes: 72 data: 300\n",
      "Data after valid: Data: Electrodes: 72 data: 72\n"
     ]
    },
    {
     "ename": "NameError",
     "evalue": "name 'coordE' is not defined",
     "output_type": "error",
     "traceback": [
      "\u001b[1;31m---------------------------------------------------------------------------\u001b[0m",
      "\u001b[1;31mNameError\u001b[0m                                 Traceback (most recent call last)",
      "\u001b[1;32m<ipython-input-15-bad6f5c412c3>\u001b[0m in \u001b[0;36m<module>\u001b[1;34m\u001b[0m\n\u001b[0;32m      8\u001b[0m     \u001b[1;32mif\u001b[0m \u001b[0mmi\u001b[0m\u001b[1;33m==\u001b[0m\u001b[0mNfix\u001b[0m\u001b[1;33m:\u001b[0m\u001b[1;33m\u001b[0m\u001b[1;33m\u001b[0m\u001b[0m\n\u001b[0;32m      9\u001b[0m        \u001b[0mmi\u001b[0m\u001b[1;33m=\u001b[0m\u001b[0mObs\u001b[0m\u001b[1;33m[\u001b[0m\u001b[1;34m'n'\u001b[0m\u001b[1;33m]\u001b[0m\u001b[1;33m[\u001b[0m\u001b[0mi\u001b[0m\u001b[1;33m]\u001b[0m\u001b[1;33m\u001b[0m\u001b[1;33m\u001b[0m\u001b[0m\n\u001b[1;32m---> 10\u001b[1;33m     \u001b[0mid_coordE_f\u001b[0m \u001b[1;33m=\u001b[0m \u001b[0mnp\u001b[0m\u001b[1;33m.\u001b[0m\u001b[0mwhere\u001b[0m\u001b[1;33m(\u001b[0m\u001b[0mmi\u001b[0m\u001b[1;33m+\u001b[0m\u001b[1;36m1\u001b[0m\u001b[1;33m==\u001b[0m\u001b[0mcoordE\u001b[0m\u001b[1;33m[\u001b[0m\u001b[1;33m:\u001b[0m\u001b[1;33m,\u001b[0m\u001b[1;36m0\u001b[0m\u001b[1;33m]\u001b[0m\u001b[1;33m)\u001b[0m\u001b[1;33m[\u001b[0m\u001b[1;36m0\u001b[0m\u001b[1;33m]\u001b[0m\u001b[1;33m\u001b[0m\u001b[1;33m\u001b[0m\u001b[0m\n\u001b[0m\u001b[0;32m     11\u001b[0m     \u001b[1;31m#if len(id_coordE_f) > 1:\u001b[0m\u001b[1;33m\u001b[0m\u001b[1;33m\u001b[0m\u001b[1;33m\u001b[0m\u001b[0m\n\u001b[0;32m     12\u001b[0m     \u001b[0mcoordE_f\u001b[0m\u001b[1;33m.\u001b[0m\u001b[0mappend\u001b[0m\u001b[1;33m(\u001b[0m\u001b[0mcoordE\u001b[0m\u001b[1;33m[\u001b[0m\u001b[0mid_coordE_f\u001b[0m\u001b[1;33m[\u001b[0m\u001b[1;36m0\u001b[0m\u001b[1;33m]\u001b[0m\u001b[1;33m,\u001b[0m\u001b[1;33m:\u001b[0m\u001b[1;33m]\u001b[0m\u001b[1;33m)\u001b[0m\u001b[1;33m\u001b[0m\u001b[1;33m\u001b[0m\u001b[0m\n",
      "\u001b[1;31mNameError\u001b[0m: name 'coordE' is not defined"
     ]
    }
   ],
   "source": [
    "Obs_raw = pb.importer.importSyscalPro('./raw_data/' + inputfileMALM) \n",
    "Obs, dataABMN=  FU.PrepareMALMData('./raw_data/' + inputfileMALM, Rec=False, DevErr=1,\n",
    "                           MinV=1, MaxRc=1, Kfact=1, MinMaxAppRes=1, \n",
    "                           SwE=False, \n",
    "                           valid=valid)\n",
    "coordE_f = []\n",
    "for i, mi in enumerate(Obs['m']):\n",
    "    if mi==Nfix:\n",
    "       mi=Obs['n'][i]\n",
    "    id_coordE_f = np.where(mi+1==coordE[:,0])[0]\n",
    "    #if len(id_coordE_f) > 1:\n",
    "    coordE_f.append(coordE[id_coordE_f[0],:])\n",
    "coordE_f = np.array(coordE_f)"
   ]
  },
  {
   "cell_type": "markdown",
   "id": "valuable-cycle",
   "metadata": {},
   "source": [
    "Quiver plot= gradient(V)*conductivity\n",
    "\n",
    "Results are saved in figs/date/ folder"
   ]
  },
  {
   "cell_type": "code",
   "execution_count": null,
   "id": "religious-window",
   "metadata": {},
   "outputs": [],
   "source": [
    "if Nfix is not None:\n",
    "\n",
    "    FU.streamlines(coordE_f, Obs('r').array(), waterRes,\n",
    "                   sensors=sensors, A=A, B=B, Nfix=Nfix,\n",
    "                    vmin=-300, vmax=200)\n",
    "    plt.savefig(figpath + 'streamlines_PV.png')\n",
    "\n",
    "    fig, ax = plt.subplots(nrows=1, ncols=4,figsize=(20,5))\n",
    "    for i, g in enumerate(range(1,20,5)):\n",
    "        FU.streamlines(coordE_f, Obs('M'+str(g)).array(), waterRes,\n",
    "                       sensors=sensors, A=A, B=B, Nfix=Nfix, ax=ax[i],\n",
    "                       vmin=-10, vmax=10)\n",
    "        ax[i].set_title('Gate t:' + str(IPcurves.t[g-1]) + 's')\n",
    "        plt.tight_layout()\n",
    "        plt.savefig(figpath + 'streamlines_transients.png')\n",
    "\n",
    "    fig, ax = plt.subplots(nrows=1, ncols=4,figsize=(20,5))\n",
    "    for i, g in enumerate(range(1,20,5)):\n",
    "        FU.streamlines(coordE_f, Obs('M'+str(g)).array(), waterRes,\n",
    "                       sensors=sensors, A=A, B=B, Nfix=Nfix, ax=ax[i]\n",
    "                       )\n",
    "        ax[i].set_title('Gate t:' + str(IPcurves.t[g-1]) + 's')\n",
    "        plt.tight_layout()\n",
    "        plt.savefig(figpath + 'streamlines_transients2.png')"
   ]
  },
  {
   "cell_type": "markdown",
   "id": "available-acoustic",
   "metadata": {
    "jupyter": {
     "source_hidden": true
    }
   },
   "source": [
    "This notebook is dedicated to the data processing of the laboratory rhizotron experiment. \n",
    "Two types of data are collected, ERT and MALM. A classical ERT inversion is followed by an extensive analysis of the MALM data. As for the MALM, no inversion is required as the potential value are analysed using a simple descriptive approach wich consist in plotting the gradient of the potential field * the conductivity of the medium. This operation led to the identification of the direction and intensity of the current flux without having to invert the MALM data."
   ]
  }
 ],
 "metadata": {
  "kernelspec": {
   "display_name": "Python 3",
   "language": "python",
   "name": "python3"
  },
  "language_info": {
   "codemirror_mode": {
    "name": "ipython",
    "version": 3
   },
   "file_extension": ".py",
   "mimetype": "text/x-python",
   "name": "python",
   "nbconvert_exporter": "python",
   "pygments_lexer": "ipython3",
   "version": "3.7.9"
  }
 },
 "nbformat": 4,
 "nbformat_minor": 5
}

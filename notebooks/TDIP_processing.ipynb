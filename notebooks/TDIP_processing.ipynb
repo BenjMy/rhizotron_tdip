{
 "cells": [
  {
   "cell_type": "markdown",
   "id": "downtown-partner",
   "metadata": {},
   "source": [
    "# Introduction"
   ]
  },
  {
   "cell_type": "markdown",
   "id": "separate-mason",
   "metadata": {},
   "source": [
    "This notebook is dedicated to the data processing of the laboratory rhizotron experiment. \n",
    "Two types of data are collected, an ERT dataset and a MALM. A classical ERT inversion is done while no inversion is required for the MALM as the potential value are analysed using a simple descriptive approach wich consist in plotting the gradient of the potential field * the conductivity of the medium.\n",
    "This operation led to the identification of the direction and intensity of the current flux without having to invert the MALM data."
   ]
  },
  {
   "cell_type": "markdown",
   "id": "tested-voltage",
   "metadata": {},
   "source": [
    "# Processing"
   ]
  },
  {
   "cell_type": "code",
   "execution_count": 1,
   "id": "judicial-rochester",
   "metadata": {},
   "outputs": [],
   "source": [
    "import os\n",
    "import matplotlib.pyplot as plt\n",
    "\n",
    "#!pip install resipy\n",
    "#import resipy\n",
    "\n",
    "#!conda install -f pybert\n",
    "#!conda install -c gimli pybert\n",
    "import pybert as pb\n",
    "from pybert import tdip\n",
    "\n",
    "\n",
    "#import pygimli\n",
    "import numpy as np\n",
    "\n",
    "# My own library\n",
    "from rhizo.utils_rhizo import fct_utils as FU\n",
    "from rhizo.run_ERT_invert_plant import invert_Resipy_ERT, invert_pygimli_ERT"
   ]
  },
  {
   "cell_type": "markdown",
   "id": "intensive-preliminary",
   "metadata": {},
   "source": [
    "### Import all the necessary packages\n",
    "pybert is required in order to: \n",
    "- invert ERT data\n",
    "- import TDIP data\n",
    "- filter TDIP data"
   ]
  },
  {
   "cell_type": "markdown",
   "id": "bored-snapshot",
   "metadata": {},
   "source": [
    "Define survey date (change date accordingly)"
   ]
  },
  {
   "cell_type": "code",
   "execution_count": 2,
   "id": "silver-foundation",
   "metadata": {},
   "outputs": [],
   "source": [
    "date = '0209' #  '1712' 0112 '1310' '1611' # (ddmm)"
   ]
  },
  {
   "cell_type": "code",
   "execution_count": 3,
   "id": "selected-administrator",
   "metadata": {},
   "outputs": [
    {
     "name": "stdout",
     "output_type": "stream",
     "text": [
      "./fig/0209/\n"
     ]
    }
   ],
   "source": [
    "main = os.getcwd()\n",
    "os.chdir(main)\n",
    "geomPath, meshPath, icsdPath, figpath = FU.definePath(main,date)\n",
    "print(figpath)"
   ]
  },
  {
   "cell_type": "markdown",
   "id": "abandoned-official",
   "metadata": {},
   "source": [
    "### Define survey parameters\n",
    "if invERT is set to FALSE, then waterRes needs to be defined according to the measured conductivity measured with the probe (in microS/cm)\n",
    "\n",
    "(see excel file for correspondance dates/files/parameters)"
   ]
  },
  {
   "cell_type": "code",
   "execution_count": 4,
   "id": "stupid-knowing",
   "metadata": {},
   "outputs": [],
   "source": [
    "invERT = True\n",
    "waterRes = (1/855)*1e4 #21.23 # water resistivity (Ohm.m) converted from microS/cm 767, 477 \n",
    "rec = True # reciprocal analysis\n",
    "A = 72-1 # Id electrode A\n",
    "B = 65-1 # Id electrode B\n",
    "injection_duration = 2 # time of injection"
   ]
  },
  {
   "cell_type": "markdown",
   "id": "potential-steering",
   "metadata": {},
   "source": [
    "Load ERT and MALM files \n",
    "\n",
    "(nothing to change providing all the raw file data respect the naming convention ERT_mmdd.bin (mm=month, dd=day))"
   ]
  },
  {
   "cell_type": "code",
   "execution_count": 5,
   "id": "israeli-small",
   "metadata": {},
   "outputs": [],
   "source": [
    "# filename located in the raw data folder\n",
    "# MALMIP_0122 MALMIP_0113 'MALMIP1217' 'MALMIP1201.bin' 'MALMIP1013' 'MALMIP1116.bin'\n",
    "inputfileMALM = 'MALMIP_' + date + '.bin' #  \n",
    "inputfileERT = 'ERT_' + date + '.bin' #"
   ]
  },
  {
   "cell_type": "markdown",
   "id": "behavioral-rachel",
   "metadata": {},
   "source": [
    "Filter data (no change needed in normal config)"
   ]
  },
  {
   "cell_type": "code",
   "execution_count": 6,
   "id": "referenced-question",
   "metadata": {},
   "outputs": [],
   "source": [
    "rmvInvalid = False # True if you want to write filtered files/ False for raw data\n",
    "rmv_outliers = False\n",
    "rmv_id= None # remove an electrode from is id\n",
    "\n",
    "split_Nfix = [True, 71-1]\n",
    "Nfix = 71-1 #71-1  #None 71-1 # Id electrode N , put None if N is varying"
   ]
  },
  {
   "cell_type": "markdown",
   "id": "raising-supervision",
   "metadata": {},
   "source": [
    "Plot TDIP data options (no change needed)"
   ]
  },
  {
   "cell_type": "code",
   "execution_count": 7,
   "id": "changed-material",
   "metadata": {},
   "outputs": [],
   "source": [
    "plotCC = False # show Cole-Cole fitted parameters (to compare with literature)\n",
    "all_gates= True\n",
    "if not all_gates: \n",
    "    gateIP = 3 \n",
    "else: gateIP = None # id extracted time window in mV/V (?)"
   ]
  },
  {
   "cell_type": "markdown",
   "id": "equipped-memorial",
   "metadata": {},
   "source": [
    "### Run ERT inversion"
   ]
  },
  {
   "cell_type": "markdown",
   "id": "sustained-accent",
   "metadata": {},
   "source": [
    "Load geometry and mesh (fwd and inv) - (no change needed)"
   ]
  },
  {
   "cell_type": "code",
   "execution_count": 8,
   "id": "tropical-wheat",
   "metadata": {},
   "outputs": [
    {
     "name": "stdout",
     "output_type": "stream",
     "text": [
      "Reading ./mesh/BaseRhizo_Vrte.msh... \n",
      "\n",
      "  Nodes: 8806\n",
      "  Entries: 46678\n",
      "    Points: 324\n",
      "    Lines: 0\n",
      "    Triangles: 13426\n",
      "    Quads: 0\n",
      "    Tetrahedra: 32928 \n",
      "\n",
      "Creating mesh object... \n",
      "\n",
      "  Dimension: 3-D\n",
      "  Boundary types: 1 (-1,)\n",
      "  Regions: 1 (2,)\n",
      "  Marked nodes: 324 (99, 991, 999, 1000)\n",
      "\n",
      "Done. \n",
      "\n",
      "  Mesh: Nodes: 8806 Cells: 32928 Boundaries: 72569\n",
      "-999\n",
      "-1000\n",
      "Reading ./mesh/BaseRhizo_Vrte_inv.msh... \n",
      "\n",
      "  Nodes: 3462\n",
      "  Entries: 17622\n",
      "    Points: 72\n",
      "    Lines: 0\n",
      "    Triangles: 5998\n",
      "    Quads: 0\n",
      "    Tetrahedra: 11552 \n",
      "\n",
      "Creating mesh object... \n",
      "\n",
      "  Dimension: 3-D\n",
      "  Boundary types: 1 (-1,)\n",
      "  Regions: 1 (2,)\n",
      "  Marked nodes: 72 (99,)\n",
      "\n",
      "Done. \n",
      "\n",
      "  Mesh: Nodes: 3462 Cells: 11552 Boundaries: 26103\n"
     ]
    }
   ],
   "source": [
    "if invERT:\n",
    "    RemLineNb, Injection, coordE, pointsE= FU.load_geom(geomPath) # geometry file containing electrodes position including remotes \n",
    "    mesh3d_fwd, sensors = FU.mesh_import(meshPath + 'BaseRhizo_Vrte.msh')\n",
    "    mesh3d_inv, sensors = FU.mesh_import(meshPath + 'BaseRhizo_Vrte_inv.msh')"
   ]
  },
  {
   "cell_type": "markdown",
   "id": "urban-belief",
   "metadata": {},
   "source": [
    "Run with resipy code"
   ]
  },
  {
   "cell_type": "code",
   "execution_count": 9,
   "id": "seven-norway",
   "metadata": {},
   "outputs": [],
   "source": [
    "#if invERT:\n",
    "#        inputfileERTcsv = 'ERT_' + date + '.csv'\n",
    "#    k = invert_Resipy_ERT(inputfileERTcsv)\n",
    "#    k.showResults()\n",
    "#    k.saveInvPlots(figpath + 'figs')"
   ]
  },
  {
   "cell_type": "markdown",
   "id": "documentary-people",
   "metadata": {},
   "source": [
    "Run with pygimli code"
   ]
  },
  {
   "cell_type": "code",
   "execution_count": null,
   "id": "knowing-fisher",
   "metadata": {},
   "outputs": [
    {
     "name": "stderr",
     "output_type": "stream",
     "text": [
      "23/02/21 - 10:22:51 - pyGIMLi - \u001b[0;32;49mINFO\u001b[0m - imported:  Data: Electrodes: 72 data: 4968\n",
      "23/02/21 - 10:22:51 - pyGIMLi - \u001b[0;32;49mINFO\u001b[0m - Cache C:\\Users\\gcass\\anaconda3\\envs\\pygimli\\lib\\site-packages\\pygimli\\physics\\ert\\ert.py:createGeometricFactors restored (0.0s x 7): C:\\Users\\gcass\\AppData\\Roaming\\pygimli\\Cache\\10960051449893461007\n",
      "23/02/21 - 10:22:52 - pyGIMLi - \u001b[0;32;49mINFO\u001b[0m - Found 1 regions.\n",
      "23/02/21 - 10:22:52 - pyGIMLi - \u001b[0;32;49mINFO\u001b[0m - Creating forward mesh from region infos.\n",
      "23/02/21 - 10:22:53 - pyGIMLi - \u001b[0;32;49mINFO\u001b[0m - Creating refined mesh (H2) to solve forward task.\n",
      "23/02/21 - 10:22:56 - pyGIMLi - \u001b[0;32;49mINFO\u001b[0m - Starting inversion.\n",
      "23/02/21 - 10:22:56 - pyGIMLi - \u001b[0;32;49mINFO\u001b[0m - Set default startmodel to median(data values)=126.82753380895355\n",
      "23/02/21 - 10:22:56 - pyGIMLi - \u001b[0;32;49mINFO\u001b[0m - Created startmodel from forward operator: 11552 [126.82753380895355,...,126.82753380895355]\n"
     ]
    },
    {
     "name": "stdout",
     "output_type": "stream",
     "text": [
      "fop: <pygimli.physics.ert.ert.ERTModelling object at 0x0000023AC37D7870>\n",
      "Data transformation: <pygimli.core._pygimli_.RTransLogLU object at 0x0000023AC37D79B0>\n",
      "Model transformation: <pygimli.core._pygimli_.RTransLog object at 0x0000023AC37D78B0>\n",
      "min/max (data): 0.10/5030\n",
      "min/max (error): 10.00%/10.96%\n",
      "min/max (start model): 127/127\n",
      "--------------------------------------------------------------------------------\n"
     ]
    }
   ],
   "source": [
    "if invERT:\n",
    "    model = invert_pygimli_ERT(inputfileERT,sensors,mesh3d_inv,date)\n",
    "    pg.show(mesh3d_inv,data=model,notebook=True)\n",
    "    mesh3d_inv.addData('model',model)\n",
    "    mesh3d_inv.exportVTK('model' + date + '.vtk')\n",
    "    \n",
    "    plotter, _ = pg.show(mesh3d_inv, data=model,\n",
    "                         alpha=0.9, hold=True, notebook=True)\n",
    "    plotter.view_xy()\n",
    "    #plotter.clim([20, 60])\n",
    "    plotter.show()\n",
    "    plotter.screenshot('model' + date + '.png')"
   ]
  },
  {
   "cell_type": "markdown",
   "id": "modified-telling",
   "metadata": {},
   "source": [
    "### MALM processing"
   ]
  },
  {
   "cell_type": "code",
   "execution_count": null,
   "id": "flexible-turkish",
   "metadata": {},
   "outputs": [],
   "source": [
    "#%% Import data TDIP\n",
    "IPcurves = tdip.TDIPdata('./raw_data/' + inputfileMALM) # e.g. ABEM or Syscal TXT export\n",
    "valid = np.ones(len(IPcurves.data('m')))\n",
    "IPcurves_f = tdip.TDIPdata('./raw_data/' + inputfileMALM)"
   ]
  },
  {
   "cell_type": "code",
   "execution_count": null,
   "id": "rural-adult",
   "metadata": {},
   "outputs": [],
   "source": [
    "if split_Nfix[0]:\n",
    "\n",
    "    IPcurves.data('m').array()\n",
    "    idn = np.where(IPcurves.data('m')==split_Nfix[1])[0]\n",
    "    idm = np.where(IPcurves.data('n')==split_Nfix[1])[0]\n",
    "    idfix = list(idn)  #+ list(idm)\n",
    "    \n",
    "    IPcurves.data('a')[idfix].array()\n",
    "    IPcurves.data('b')[idfix].array()\n",
    "    id_elec_2rmv = idfix # remove Nfix electrodes\n",
    "    \n",
    "    if Nfix is not None:\n",
    "        a = set(list(range(0, len(IPcurves.data('m')))))\n",
    "        id_elec_2rmv = a.difference(set(idfix))\n",
    "        id_elec_2rmv = list(id_elec_2rmv)\n",
    "    \n",
    "    IPcurves_f, valid_split = FU.filterTDIP(IPcurves_f,id_elec_2rmv)"
   ]
  },
  {
   "cell_type": "markdown",
   "id": "pacific-witch",
   "metadata": {},
   "source": [
    "Remove outliers "
   ]
  },
  {
   "cell_type": "code",
   "execution_count": null,
   "id": "featured-baghdad",
   "metadata": {},
   "outputs": [],
   "source": [
    "if rmv_outliers: \n",
    "    id_outliers = np.where(abs(IPcurves_f.data['M1'])>100)[0]\n",
    "    id_elec_2rmv= list(id_outliers)\n",
    "    if rmv_id: \n",
    "        id_elec_2rmv.append(rmv_id)\n",
    "    IPcurves_f, valid_outliers = filterTDIP(IPcurves_f,id_elec_2rmv)\n",
    "\n",
    "j=0\n",
    "try:\n",
    "    valid_split\n",
    "except NameError:\n",
    "    valid_split = np.ones(len(IPcurves.data('m')))\n",
    "    \n",
    "for i, v in enumerate(valid_split):\n",
    "    if v==1: # if valid in split\n",
    "        # check if valid in outliers\n",
    "        if rmv_outliers:\n",
    "            if valid_outliers[j] == 0:\n",
    "                valid[i] = 0\n",
    "                print(i)\n",
    "            else:\n",
    "                valid[i] = 1\n",
    "            j = j + 1\n",
    "    else: \n",
    "        valid[i] = 0    "
   ]
  },
  {
   "cell_type": "markdown",
   "id": "coated-poker",
   "metadata": {},
   "source": [
    "Show decay"
   ]
  },
  {
   "cell_type": "code",
   "execution_count": null,
   "id": "dense-hearing",
   "metadata": {},
   "outputs": [],
   "source": [
    "IPcurves_f.showDecay(nr=np.arange(0,len(IPcurves_f.data['a'])), showFit=False, \n",
    "                   yscale='linear',xscale='linear')"
   ]
  },
  {
   "cell_type": "code",
   "execution_count": null,
   "id": "loved-option",
   "metadata": {},
   "outputs": [],
   "source": [
    "Obs_raw = pb.importer.importSyscalPro('./raw_data/' + inputfileMALM) \n",
    "Obs, dataABMN=  FU.PrepareMALMData('./raw_data/' + inputfileMALM, Rec=False, DevErr=1,\n",
    "                           MinV=1, MaxRc=1, Kfact=1, MinMaxAppRes=1, \n",
    "                           SwE=False, \n",
    "                           valid=valid)\n",
    "coordE_f = []\n",
    "for i, mi in enumerate(Obs['m']):\n",
    "    if mi==Nfix:\n",
    "       mi=Obs['n'][i]\n",
    "    id_coordE_f = np.where(mi+1==coordE[:,0])[0]\n",
    "    #if len(id_coordE_f) > 1:\n",
    "    coordE_f.append(coordE[id_coordE_f[0],:])\n",
    "coordE_f = np.array(coordE_f)"
   ]
  },
  {
   "cell_type": "markdown",
   "id": "exempt-retention",
   "metadata": {},
   "source": [
    "Quiver plot= gradient(V)*conductivity\n",
    "\n",
    "Results are saved in figs/date/ folder"
   ]
  },
  {
   "cell_type": "code",
   "execution_count": null,
   "id": "transparent-quality",
   "metadata": {},
   "outputs": [],
   "source": [
    "if Nfix is not None:\n",
    "\n",
    "    FU.streamlines(coordE_f, Obs('r').array(), waterRes,\n",
    "                   sensors=sensors, A=A, B=B, Nfix=Nfix,\n",
    "                    vmin=-300, vmax=200)\n",
    "    plt.savefig(figpath + 'streamlines_PV.png')\n",
    "\n",
    "    fig, ax = plt.subplots(nrows=1, ncols=4,figsize=(20,5))\n",
    "    for i, g in enumerate(range(1,20,5)):\n",
    "        FU.streamlines(coordE_f, Obs('M'+str(g)).array(), waterRes,\n",
    "                       sensors=sensors, A=A, B=B, Nfix=Nfix, ax=ax[i],\n",
    "                       vmin=-10, vmax=10)\n",
    "        ax[i].set_title('Gate t:' + str(IPcurves.t[g-1]) + 's')\n",
    "        plt.tight_layout()\n",
    "        plt.savefig(figpath + 'streamlines_transients.png')\n",
    "\n",
    "    fig, ax = plt.subplots(nrows=1, ncols=4,figsize=(20,5))\n",
    "    for i, g in enumerate(range(1,20,5)):\n",
    "        FU.streamlines(coordE_f, Obs('M'+str(g)).array(), waterRes,\n",
    "                       sensors=sensors, A=A, B=B, Nfix=Nfix, ax=ax[i]\n",
    "                       )\n",
    "        ax[i].set_title('Gate t:' + str(IPcurves.t[g-1]) + 's')\n",
    "        plt.tight_layout()\n",
    "        plt.savefig(figpath + 'streamlines_transients2.png')"
   ]
  },
  {
   "cell_type": "markdown",
   "id": "liked-minimum",
   "metadata": {},
   "source": [
    "This notebook is dedicated to the data processing of the laboratory rhizotron experiment. \n",
    "Two types of data are collected, ERT and MALM. A classical ERT inversion is followed by an extensive analysis of the MALM data. As for the MALM, no inversion is required as the potential value are analysed using a simple descriptive approach wich consist in plotting the gradient of the potential field * the conductivity of the medium. This operation led to the identification of the direction and intensity of the current flux without having to invert the MALM data."
   ]
  }
 ],
 "metadata": {
  "kernelspec": {
   "display_name": "Python 3",
   "language": "python",
   "name": "python3"
  },
  "language_info": {
   "codemirror_mode": {
    "name": "ipython",
    "version": 3
   },
   "file_extension": ".py",
   "mimetype": "text/x-python",
   "name": "python",
   "nbconvert_exporter": "python",
   "pygments_lexer": "ipython3",
   "version": "3.7.9"
  }
 },
 "nbformat": 4,
 "nbformat_minor": 5
}

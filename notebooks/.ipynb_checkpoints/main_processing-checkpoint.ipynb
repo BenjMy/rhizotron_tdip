{
 "cells": [
  {
   "cell_type": "markdown",
   "id": "recorded-magazine",
   "metadata": {},
   "source": [
    "# Introduction"
   ]
  },
  {
   "cell_type": "markdown",
   "id": "ultimate-account",
   "metadata": {},
   "source": [
    "This notebook is dedicated to the data processing of the laboratory rhizotron experiment. \n",
    "Two types of data are collected, an ERT dataset and a MALM. A classical ERT inversion is done while no inversion is required for the MALM as the potential value are analysed using a simple descriptive approach wich consist in plotting the gradient of the potential field * the conductivity of the medium.\n",
    "This operation led to the identification of the direction and intensity of the current flux without having to invert the MALM data."
   ]
  },
  {
   "cell_type": "markdown",
   "id": "fiscal-lexington",
   "metadata": {},
   "source": [
    "# Processing"
   ]
  },
  {
   "cell_type": "markdown",
   "id": "anonymous-genome",
   "metadata": {},
   "source": [
    "### Import all the necessary packages\n",
    "pybert is required in order to: \n",
    "- invert ERT data\n",
    "- import TDIP data\n",
    "- filter TDIP data"
   ]
  },
  {
   "cell_type": "code",
   "execution_count": 1,
   "id": "digital-facing",
   "metadata": {},
   "outputs": [],
   "source": [
    "#!git clone https://gitlab.com/resistivity-net/bert\n",
    "#!conda install -f pybert\n",
    "#import pybert\n",
    "#!conda install --yes --prefix {sys.prefix} pybert\n",
    "#!conda install --yes pybert"
   ]
  },
  {
   "cell_type": "code",
   "execution_count": 3,
   "id": "peripheral-chicken",
   "metadata": {},
   "outputs": [
    {
     "ename": "ModuleNotFoundError",
     "evalue": "No module named 'rhizo'",
     "output_type": "error",
     "traceback": [
      "\u001b[1;31m---------------------------------------------------------------------------\u001b[0m",
      "\u001b[1;31mModuleNotFoundError\u001b[0m                       Traceback (most recent call last)",
      "\u001b[1;32m<ipython-input-3-6645528a18fe>\u001b[0m in \u001b[0;36m<module>\u001b[1;34m\u001b[0m\n\u001b[0;32m     15\u001b[0m \u001b[1;33m\u001b[0m\u001b[0m\n\u001b[0;32m     16\u001b[0m \u001b[1;31m# My own library\u001b[0m\u001b[1;33m\u001b[0m\u001b[1;33m\u001b[0m\u001b[1;33m\u001b[0m\u001b[0m\n\u001b[1;32m---> 17\u001b[1;33m \u001b[1;32mfrom\u001b[0m \u001b[0mrhizo\u001b[0m\u001b[1;33m.\u001b[0m\u001b[0mutils_rhizo\u001b[0m \u001b[1;32mimport\u001b[0m \u001b[0mfct_utils\u001b[0m \u001b[1;32mas\u001b[0m \u001b[0mFU\u001b[0m\u001b[1;33m\u001b[0m\u001b[1;33m\u001b[0m\u001b[0m\n\u001b[0m\u001b[0;32m     18\u001b[0m \u001b[1;32mfrom\u001b[0m \u001b[0mrhizo\u001b[0m\u001b[1;33m.\u001b[0m\u001b[0mrun_ERT_invert_plant\u001b[0m \u001b[1;32mimport\u001b[0m \u001b[0minvert_Resipy_ERT\u001b[0m\u001b[1;33m,\u001b[0m \u001b[0minvert_pygimli_ERT\u001b[0m\u001b[1;33m\u001b[0m\u001b[1;33m\u001b[0m\u001b[0m\n",
      "\u001b[1;31mModuleNotFoundError\u001b[0m: No module named 'rhizo'"
     ]
    }
   ],
   "source": [
    "import os\n",
    "import matplotlib.pyplot as plt\n",
    "\n",
    "#!pip install resipy\n",
    "#import resipy\n",
    "\n",
    "#!conda install -f pybert\n",
    "#!conda install -c gimli pybert\n",
    "import pybert as pb\n",
    "from pybert import tdip\n",
    "\n",
    "\n",
    "#import pygimli\n",
    "import numpy as np\n",
    "\n",
    "# My own library\n",
    "from rhizo.utils_rhizo import fct_utils as FU\n",
    "from rhizo.run_ERT_invert_plant import invert_Resipy_ERT, invert_pygimli_ERT"
   ]
  },
  {
   "cell_type": "markdown",
   "id": "ranging-organizer",
   "metadata": {},
   "source": [
    "Define survey date (change date accordingly)"
   ]
  },
  {
   "cell_type": "code",
   "execution_count": null,
   "id": "fitted-finland",
   "metadata": {},
   "outputs": [],
   "source": [
    "date = '0209' #  '1712' 0112 '1310' '1611' # (ddmm)"
   ]
  },
  {
   "cell_type": "markdown",
   "id": "successful-dispatch",
   "metadata": {},
   "source": [
    "Define file paths"
   ]
  },
  {
   "cell_type": "code",
   "execution_count": null,
   "id": "matched-intranet",
   "metadata": {},
   "outputs": [],
   "source": [
    "main = os.getcwd()\n",
    "os.chdir(main)\n",
    "geomPath, meshPath, icsdPath, figpath = FU.definePath(main,date)\n",
    "print(figpath)"
   ]
  },
  {
   "cell_type": "markdown",
   "id": "rational-summer",
   "metadata": {},
   "source": [
    "### Define survey parameters\n",
    "if invERT is set to FALSE, then waterRes needs to be defined according to the measured conductivity measured with the probe (in microS/cm)\n",
    "\n",
    "(see excel file for correspondance dates/files/parameters)"
   ]
  },
  {
   "cell_type": "code",
   "execution_count": null,
   "id": "mysterious-reproduction",
   "metadata": {},
   "outputs": [],
   "source": [
    "invERT = False\n",
    "waterRes = (1/855)*1e4 #21.23 # water resistivity (Ohm.m) converted from microS/cm 767, 477 \n",
    "rec = True # reciprocal analysis\n",
    "A = 72-1 # Id electrode A\n",
    "B = 65-1 # Id electrode B\n",
    "injection_duration = 2 # time of injection"
   ]
  },
  {
   "cell_type": "markdown",
   "id": "periodic-family",
   "metadata": {},
   "source": [
    "Load ERT and MALM files \n",
    "\n",
    "(nothing to change providing all the raw file data respect the naming convention ERT_mmdd.bin (mm=month, dd=day))"
   ]
  },
  {
   "cell_type": "code",
   "execution_count": null,
   "id": "circular-elite",
   "metadata": {},
   "outputs": [],
   "source": [
    "# filename located in the raw data folder\n",
    "# MALMIP_0122 MALMIP_0113 'MALMIP1217' 'MALMIP1201.bin' 'MALMIP1013' 'MALMIP1116.bin'\n",
    "inputfileMALM = 'MALMIP_' + date + '.bin' #  \n",
    "inputfileERT = 'ERT_' + date + '.bin' #"
   ]
  },
  {
   "cell_type": "markdown",
   "id": "downtown-reliance",
   "metadata": {},
   "source": [
    "Filter data (no change needed in normal config)"
   ]
  },
  {
   "cell_type": "code",
   "execution_count": null,
   "id": "reverse-rabbit",
   "metadata": {},
   "outputs": [],
   "source": [
    "rmvInvalid = False # True if you want to write filtered files/ False for raw data\n",
    "rmv_outliers = False\n",
    "rmv_id= None # remove an electrode from is id\n",
    "\n",
    "split_Nfix = [True, 71-1]\n",
    "Nfix = 71-1 #71-1  #None 71-1 # Id electrode N , put None if N is varying"
   ]
  },
  {
   "cell_type": "markdown",
   "id": "authorized-announcement",
   "metadata": {},
   "source": [
    "Plot TDIP data options (no change needed)"
   ]
  },
  {
   "cell_type": "code",
   "execution_count": null,
   "id": "associate-cylinder",
   "metadata": {},
   "outputs": [],
   "source": [
    "plotCC = False # show Cole-Cole fitted parameters (to compare with literature)\n",
    "all_gates= True\n",
    "if not all_gates: \n",
    "    gateIP = 3 \n",
    "else: gateIP = None # id extracted time window in mV/V (?)"
   ]
  },
  {
   "cell_type": "markdown",
   "id": "correct-cinema",
   "metadata": {},
   "source": [
    "### Run ERT inversion"
   ]
  },
  {
   "cell_type": "markdown",
   "id": "paperback-california",
   "metadata": {},
   "source": [
    "Load geometry and mesh (fwd and inv) - (no change needed)"
   ]
  },
  {
   "cell_type": "code",
   "execution_count": null,
   "id": "israeli-thumb",
   "metadata": {},
   "outputs": [],
   "source": [
    "if invERT:\n",
    "    RemLineNb, Injection, coordE, pointsE= FU.load_geom(geomPath) # geometry file containing electrodes position including remotes \n",
    "    mesh3d_fwd, sensors = FU.mesh_import(meshPath + 'BaseRhizo_Vrte.msh')\n",
    "    mesh3d_inv, sensors = FU.mesh_import(meshPath + 'BaseRhizo_Vrte_inv.msh')"
   ]
  },
  {
   "cell_type": "markdown",
   "id": "protective-scholar",
   "metadata": {},
   "source": [
    "Run with resipy code"
   ]
  },
  {
   "cell_type": "code",
   "execution_count": null,
   "id": "negative-candy",
   "metadata": {},
   "outputs": [],
   "source": [
    "if invERT:\n",
    "        inputfileERTcsv = 'ERT_' + date + '.csv'\n",
    "    k = invert_Resipy_ERT(inputfileERTcsv)\n",
    "    k.showResults()\n",
    "    k.saveInvPlots(figpath + 'figs')"
   ]
  },
  {
   "cell_type": "markdown",
   "id": "solved-shepherd",
   "metadata": {},
   "source": [
    "Run with pygimli code"
   ]
  },
  {
   "cell_type": "code",
   "execution_count": null,
   "id": "worse-alpha",
   "metadata": {},
   "outputs": [],
   "source": [
    "if invERT:\n",
    "    model = invert_pygimli_ERT(inputfileERT,sensors,mesh3d_inv)\n",
    "    pg.show(mesh3d_inv,data=model,notebook=True)\n",
    "    mesh3d_inv.addData('model',model)\n",
    "    mesh3d_inv.exportVTK('model' + date + '.vtk')\n",
    "    \n",
    "    plotter, _ = pg.show(mesh3d_inv, data=model,\n",
    "                         alpha=0.9, hold=True, notebook=True)\n",
    "    plotter.view_xy()\n",
    "    #plotter.clim([20, 60])\n",
    "    plotter.show()\n",
    "    plotter.screenshot('model' + date + '.png')"
   ]
  },
  {
   "cell_type": "markdown",
   "id": "ordered-scotland",
   "metadata": {},
   "source": [
    "### MALM processing"
   ]
  },
  {
   "cell_type": "code",
   "execution_count": null,
   "id": "painted-trial",
   "metadata": {},
   "outputs": [],
   "source": [
    "#%% Import data TDIP\n",
    "IPcurves = tdip.TDIPdata('./raw_data/' + inputfileMALM) # e.g. ABEM or Syscal TXT export\n",
    "valid = np.ones(len(IPcurves.data('m')))\n",
    "IPcurves_f = tdip.TDIPdata('./raw_data/' + inputfileMALM)"
   ]
  },
  {
   "cell_type": "code",
   "execution_count": null,
   "id": "confidential-technical",
   "metadata": {},
   "outputs": [],
   "source": [
    "if split_Nfix[0]:\n",
    "\n",
    "    IPcurves.data('m').array()\n",
    "    idn = np.where(IPcurves.data('m')==split_Nfix[1])[0]\n",
    "    idm = np.where(IPcurves.data('n')==split_Nfix[1])[0]\n",
    "    idfix = list(idn)  #+ list(idm)\n",
    "    \n",
    "    IPcurves.data('a')[idfix].array()\n",
    "    IPcurves.data('b')[idfix].array()\n",
    "    id_elec_2rmv = idfix # remove Nfix electrodes\n",
    "    \n",
    "    if Nfix is not None:\n",
    "        a = set(list(range(0, len(IPcurves.data('m')))))\n",
    "        id_elec_2rmv = a.difference(set(idfix))\n",
    "        id_elec_2rmv = list(id_elec_2rmv)\n",
    "    \n",
    "    IPcurves_f, valid_split = FU.filterTDIP(IPcurves_f,id_elec_2rmv)"
   ]
  },
  {
   "cell_type": "markdown",
   "id": "portable-spectrum",
   "metadata": {},
   "source": [
    "Remove outliers "
   ]
  },
  {
   "cell_type": "code",
   "execution_count": null,
   "id": "soviet-discipline",
   "metadata": {},
   "outputs": [],
   "source": [
    "if rmv_outliers: \n",
    "    id_outliers = np.where(abs(IPcurves_f.data['M1'])>100)[0]\n",
    "    id_elec_2rmv= list(id_outliers)\n",
    "    if rmv_id: \n",
    "        id_elec_2rmv.append(rmv_id)\n",
    "    IPcurves_f, valid_outliers = filterTDIP(IPcurves_f,id_elec_2rmv)\n",
    "\n",
    "j=0\n",
    "try:\n",
    "    valid_split\n",
    "except NameError:\n",
    "    valid_split = np.ones(len(IPcurves.data('m')))\n",
    "    \n",
    "for i, v in enumerate(valid_split):\n",
    "    if v==1: # if valid in split\n",
    "        # check if valid in outliers\n",
    "        if rmv_outliers:\n",
    "            if valid_outliers[j] == 0:\n",
    "                valid[i] = 0\n",
    "                print(i)\n",
    "            else:\n",
    "                valid[i] = 1\n",
    "            j = j + 1\n",
    "    else: \n",
    "        valid[i] = 0    "
   ]
  },
  {
   "cell_type": "markdown",
   "id": "strange-trail",
   "metadata": {},
   "source": [
    "Show decay"
   ]
  },
  {
   "cell_type": "code",
   "execution_count": null,
   "id": "efficient-audience",
   "metadata": {},
   "outputs": [],
   "source": [
    "IPcurves_f.showDecay(nr=np.arange(0,len(IPcurves_f.data['a'])), showFit=False, \n",
    "                   yscale='linear',xscale='linear')"
   ]
  },
  {
   "cell_type": "code",
   "execution_count": null,
   "id": "hollywood-polish",
   "metadata": {},
   "outputs": [],
   "source": [
    "Obs_raw = pb.importer.importSyscalPro('./raw_data/' + inputfileMALM) \n",
    "Obs, dataABMN=  FU.PrepareMALMData('./raw_data/' + inputfileMALM, Rec=False, DevErr=1,\n",
    "                           MinV=1, MaxRc=1, Kfact=1, MinMaxAppRes=1, \n",
    "                           SwE=False, \n",
    "                           valid=valid)\n",
    "coordE_f = []\n",
    "for i, mi in enumerate(Obs['m']):\n",
    "    if mi==Nfix:\n",
    "       mi=Obs['n'][i]\n",
    "    id_coordE_f = np.where(mi+1==coordE[:,0])[0]\n",
    "    #if len(id_coordE_f) > 1:\n",
    "    coordE_f.append(coordE[id_coordE_f[0],:])\n",
    "coordE_f = np.array(coordE_f)"
   ]
  },
  {
   "cell_type": "markdown",
   "id": "unknown-tyler",
   "metadata": {},
   "source": [
    "Quiver plot= gradient(V)*conductivity\n",
    "\n",
    "Results are saved in figs/date/ folder"
   ]
  },
  {
   "cell_type": "code",
   "execution_count": null,
   "id": "configured-relative",
   "metadata": {},
   "outputs": [],
   "source": [
    "if Nfix is not None:\n",
    "\n",
    "    FU.streamlines(coordE_f, Obs('r').array(), waterRes,\n",
    "                   sensors=sensors, A=A, B=B, Nfix=Nfix,\n",
    "                    vmin=-300, vmax=200)\n",
    "    plt.savefig(figpath + 'streamlines_PV.png')\n",
    "\n",
    "    fig, ax = plt.subplots(nrows=1, ncols=4,figsize=(20,5))\n",
    "    for i, g in enumerate(range(1,20,5)):\n",
    "        FU.streamlines(coordE_f, Obs('M'+str(g)).array(), waterRes,\n",
    "                       sensors=sensors, A=A, B=B, Nfix=Nfix, ax=ax[i],\n",
    "                       vmin=-10, vmax=10)\n",
    "        ax[i].set_title('Gate t:' + str(IPcurves.t[g-1]) + 's')\n",
    "        plt.tight_layout()\n",
    "        plt.savefig(figpath + 'streamlines_transients.png')\n",
    "\n",
    "    fig, ax = plt.subplots(nrows=1, ncols=4,figsize=(20,5))\n",
    "    for i, g in enumerate(range(1,20,5)):\n",
    "        FU.streamlines(coordE_f, Obs('M'+str(g)).array(), waterRes,\n",
    "                       sensors=sensors, A=A, B=B, Nfix=Nfix, ax=ax[i]\n",
    "                       )\n",
    "        ax[i].set_title('Gate t:' + str(IPcurves.t[g-1]) + 's')\n",
    "        plt.tight_layout()\n",
    "        plt.savefig(figpath + 'streamlines_transients2.png')"
   ]
  },
  {
   "cell_type": "markdown",
   "id": "portuguese-confirmation",
   "metadata": {
    "jupyter": {
     "source_hidden": true
    }
   },
   "source": [
    "This notebook is dedicated to the data processing of the laboratory rhizotron experiment. \n",
    "Two types of data are collected, ERT and MALM. A classical ERT inversion is followed by an extensive analysis of the MALM data. As for the MALM, no inversion is required as the potential value are analysed using a simple descriptive approach wich consist in plotting the gradient of the potential field * the conductivity of the medium. This operation led to the identification of the direction and intensity of the current flux without having to invert the MALM data."
   ]
  }
 ],
 "metadata": {
  "kernelspec": {
   "display_name": "Python 3",
   "language": "python",
   "name": "python3"
  },
  "language_info": {
   "codemirror_mode": {
    "name": "ipython",
    "version": 3
   },
   "file_extension": ".py",
   "mimetype": "text/x-python",
   "name": "python",
   "nbconvert_exporter": "python",
   "pygments_lexer": "ipython3",
   "version": "3.7.9"
  }
 },
 "nbformat": 4,
 "nbformat_minor": 5
}
